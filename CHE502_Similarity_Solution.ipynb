{
  "nbformat": 4,
  "nbformat_minor": 0,
  "metadata": {
    "colab": {
      "name": "CHE502 Similarity Solution.ipynb",
      "provenance": [],
      "authorship_tag": "ABX9TyN+s7PJW90zD8iuPhtnbHrC",
      "include_colab_link": true
    },
    "kernelspec": {
      "name": "python3",
      "display_name": "Python 3"
    },
    "language_info": {
      "name": "python"
    }
  },
  "cells": [
    {
      "cell_type": "markdown",
      "metadata": {
        "id": "view-in-github",
        "colab_type": "text"
      },
      "source": [
        "<a href=\"https://colab.research.google.com/github/henthornlab/TransportPhenomena/blob/main/CHE502_Similarity_Solution.ipynb\" target=\"_parent\"><img src=\"https://colab.research.google.com/assets/colab-badge.svg\" alt=\"Open In Colab\"/></a>"
      ]
    },
    {
      "cell_type": "markdown",
      "source": [
        "#**CHE 502 Transport: Similarity Solution Notes**#\n",
        "David B. Henthorn, Dept. of Chemical Engineering,\n",
        "Rose-Hulman Institute of Technology\n",
        "\n",
        "<img style=\"float: right;\" src=\"https://raw.githubusercontent.com/henthornlab/ProcessAnalytics/master/RHITlogo.png\">\n"
      ],
      "metadata": {
        "id": "dJrpSJ2Iktgp"
      }
    },
    {
      "cell_type": "markdown",
      "source": [
        "# Similarity Solution Overview\n",
        "We're looking to solve the diffusion equation on a semi-infinite domain, say $0 \\le x \\lt \\infty$. \n",
        "\n",
        "This equation will take the form of something like:\n",
        "\n",
        "$$\\frac{\\partial \\Theta}{\\partial t} = \\alpha \\frac{\\partial^2\\Theta}{\\partial x^2}$$\n",
        "\n",
        "Normally we would approach this using a separation of variables technique, but the semi-infinite domain complicates that. One solution technique would be to apply a Laplace transform:\n",
        "\n",
        "$$ \\mathscr{L} \\left[ \\frac{\\partial \\Theta}{\\partial t} \\right]= \\mathscr{L} \\left[ \\alpha \\frac{\\partial^2\\Theta}{\\partial x^2} \\right]$$\n",
        "\n",
        "which leads to integrating out time of the PDE, shifting the equation into the Laplace domain. This results in an ODE that is a function of x and s.\n",
        "\n",
        "After solving that ODE, we take the inverse Laplace to leave the Laplace domain (s) and return to real time (t). This is a very effective and efficient method, but the machinery hides the physics of the solution.\n",
        "\n",
        "We can, instead, take a more instructive approach using a variable that collapses time and position into one dimension... so $\\Theta(t,x)$ becomes $\\Theta(\\eta)$ where $\\eta$ is instead the function of $t,x$. This technique is referred to as a ***similarity solution*** and $\\eta$ is the ***similarity variable***.\n",
        "\n",
        "We use the similarity solution as follows:\n",
        "\n",
        "We will swap out $\\Theta(t,x)$ with $\\Theta(\\eta)$  and redo the derivatives as:\n",
        "\n",
        "$$\\frac{\\partial \\Theta}{\\partial t}  = \\frac{d\\Theta}{d \\eta}\\frac{\\partial \\eta}{\\partial t}$$\n",
        "\n",
        "and \n",
        "\n",
        "$$\\frac{\\partial \\Theta}{\\partial x}  = \\frac{d\\Theta}{d \\eta}\\frac{\\partial \\eta}{\\partial x}$$\n",
        "\n",
        "When we have a second derivative, we apply the chain rule twice, yielding:\n",
        "\n",
        "$$\\frac{\\partial^2 \\Theta}{\\partial x^2}  = \\frac{d^2\\Theta}{d \\eta^2}\\left(\\frac{\\partial \\eta}{\\partial x}\\right)^2$$\n",
        "\n",
        "By picking the right form of $\\eta$ we can reduce our PDE to an ODE. For the diffusion equation, that form is:\n",
        "\n",
        "$$ \\frac{d^2\\Theta}{d \\eta^2} = -2 \\eta \\frac{d \\Theta}{d \\eta}$$\n",
        "\n",
        "with the similarity variable being:\n",
        "\n",
        "$$\\eta = \\frac{x}{\\sqrt{4 \\alpha t}}$$\n",
        "\n",
        "The solution to this ODE depends on the boundary and initial conditions, but is of the form $erf(\\eta)$.\n",
        "\n",
        "For example, if we have the initial/boundary conditions of:\n",
        "* at $t = 0$,  $\\Theta = 1$\n",
        "* at $x = 0$,  $\\Theta = 0$\n",
        "* as $x$ approaches $\\infty$,  $\\Theta = 1$\n",
        "\n",
        "\n",
        "Then $$\\Theta(t,x) = erf\\left( \\frac{x}{\\sqrt{4 \\alpha t}} \\right)$$\n",
        "\n",
        "\n",
        "The other common solution is:\n",
        "\n",
        "$$\\Theta(t,x) = erfc\\left( \\frac{x}{\\sqrt{4 \\alpha t}} \\right)$$ \n",
        "\n",
        "where $erfc(x) = 1 - erf(x)$, which corresponds to initial/boundary conditions of:\n",
        "\n",
        "* at $t = 0$,  $\\Theta = 0$\n",
        "* at $x = 0$,  $\\Theta = 1$\n",
        "* as $x$ approaches $\\infty$,  $\\Theta = 0$\n"
      ],
      "metadata": {
        "id": "_-ooxI1sk5MS"
      }
    },
    {
      "cell_type": "markdown",
      "source": [
        "# How do we determine the similarity variable?\n",
        "\n",
        "The question inevitably arise, how do we determine $\\eta$?\n",
        "\n",
        "Let's choose a form of $\\eta$ that makes the position dimensionless using our normal method of dividing a dimensional variable by a reference value,  $$\\eta = \\frac{x}{g(t)}$$\n",
        "\n",
        "This function, $g(t)$, will be a position that changes with time. From the physics, we will end up calling this the **penetration depth**, which is a lengthscale that has been affected by the change that occurred at t = 0. Beyond that penetration depth, the material is unperturbed and looks identical to t = 0. For example, if I spill some water on a wood table, the water molecules will slowly diffuse into the wood, going deeper and deeper over time. That moving front of water would be the penetration depth. \n",
        "\n",
        "But can we determine what $g(t)$ is automatically? YES!\n",
        "\n",
        "Keeping $\\eta = \\frac{x}{g(t)}$, apply the transformations of:\n",
        "\n",
        "$$\\frac{\\partial \\Theta}{\\partial t}  = \\frac{d\\Theta}{d \\eta}\\frac{\\partial \\eta}{\\partial t}$$\n",
        "\n",
        "and \n",
        "\n",
        "$$\\frac{\\partial^2 \\Theta}{\\partial x^2}  = \\frac{d^2\\Theta}{d \\eta^2}\\left(\\frac{\\partial \\eta}{\\partial x}\\right)^2$$\n",
        "\n",
        "which yield, respectively:\n",
        "\n",
        "$$\\frac{\\partial \\Theta}{\\partial t}  = \\frac{d\\Theta}{d \\eta}\\frac{-xg'}{g^2}$$\n",
        "\n",
        "and\n",
        "\n",
        "$$\\frac{\\partial^2 \\Theta}{\\partial x^2}  = \\frac{d^2\\Theta}{d \\eta^2}\\left(\\frac{1}{g}\\right)^2$$\n",
        "\n",
        "\n",
        "When you combine these with the original PDE:\n",
        "\n",
        "$$\\frac{\\partial \\Theta}{\\partial t} = \\alpha \\frac{\\partial^2\\Theta}{\\partial x^2}$$\n",
        "\n",
        "You will find:\n",
        "\n",
        "$$ \\frac{d^2\\Theta}{d \\eta^2} = -\\frac{xg'}{\\alpha} \\frac{d \\Theta}{d \\eta}$$\n",
        "\n",
        "We can replace $x$ with $x = \\eta g $, yielding:\n",
        "\n",
        "$$ \\frac{d^2\\Theta}{d \\eta^2} = -\\frac{\\eta g g'}{\\alpha} \\frac{d \\Theta}{d \\eta}$$\n",
        "\n",
        "We need to do two things:\n",
        "* Find g such that it disappears from the above equation and renders the entire DE dimensionless\n",
        "* Find g such that it yields an ODE that we can solve.\n",
        "\n",
        "To the first point, if we let $g g' = \\alpha$ then our equation becomes dimensionless, as shown below:\n",
        "\n",
        "$$ \\frac{d^2\\Theta}{d \\eta^2} = -\\eta \\frac{d \\Theta}{d \\eta}$$\n",
        "\n",
        "But this differential equation is more difficult to solve than it needs to be. To address the second part, we could, instead set $g g' = 2\\alpha$, which yields:\n",
        "\n",
        "$$ \\frac{d^2\\Theta}{d \\eta^2} = -2\\eta \\frac{d \\Theta}{d \\eta}$$\n",
        "\n",
        "This ODE solves to the well-known error function, erf().\n",
        "We've found our goal! \n",
        "\n",
        "**Solve for a $g(t)$ that satisfies $g g' = 2\\alpha$.**\n"
      ],
      "metadata": {
        "id": "FA6urRZEsSK8"
      }
    },
    {
      "cell_type": "markdown",
      "source": [
        "# Solving g(t)\n",
        "\n",
        "We need to solve the differential equation, $$gg' = 2 \\alpha$$\n",
        "\n",
        "for g(t).\n",
        "\n",
        "In Deen's text, there's a useful hint. Isn't the following true?\n",
        "\n",
        "$$\\frac{d}{dx}f^2 = 2ff'$$\n",
        "\n",
        "This means we can replace $gg'$ with:\n",
        "\n",
        "$$gg'= \\frac{(g^2)^{'}}{2}$$\n",
        "\n",
        "Combining this we see:\n",
        "\n",
        "$$\\frac{(g^2)^{'}}{2} = 2 \\alpha $$\n",
        "\n",
        "or, written explicitly:\n",
        "\n",
        "$$\\frac{d}{dt}(g^2) = 4 \\alpha $$\n",
        "\n",
        "which leads to:\n",
        "\n",
        "$$g^2 = 4 \\alpha t $$\n",
        "\n",
        "and $$ g = \\sqrt{4 \\alpha t} $$\n",
        "\n",
        "Our final form for $\\eta$ therefore is:\n",
        "\n",
        "$$ \\eta = \\frac{x}{\\sqrt{4 \\alpha t}}$$\n"
      ],
      "metadata": {
        "id": "wWj5lKsC6Uey"
      }
    },
    {
      "cell_type": "markdown",
      "source": [
        "# Learning Synopsis:\n",
        "\n",
        "The quantities:\n",
        "* $\\sqrt{\\nu t}$ (in viscous flow)\n",
        "* $\\sqrt{\\alpha t}$ (in conductive heat transfer)\n",
        "* $\\sqrt{D_{AB} t}$  (in Fickian diffusion)\n",
        "\n",
        "represent the distance that a diffusive process has affected over time. We can use this ***penetration depth*** to help us relate position and time scales in transient problems.\n",
        "\n",
        "This simple idea is extremely important yet easy to use: \n",
        "\n",
        "***For diffusive processes, it takes 4 times as long to move twice the distance.***\n",
        "\n",
        "This grouping is a natural occurrence of the diffusion equation, where the first derivative of time is proportional to the second derivative of distance, scaled by the diffusivity."
      ],
      "metadata": {
        "id": "tlvrRCsdVpHl"
      }
    }
  ]
}